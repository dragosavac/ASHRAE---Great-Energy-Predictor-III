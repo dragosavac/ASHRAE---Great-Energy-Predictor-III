{
 "cells": [
  {
   "cell_type": "code",
   "execution_count": 16,
   "metadata": {},
   "outputs": [],
   "source": [
    "import pandas as pd\n",
    "import numpy as np\n",
    "import lightgbm as lgb\n",
    "\n",
    "from lightgbm import LGBMRegressor\n",
    "\n",
    "import matplotlib.pyplot as plt\n",
    "import seaborn as sns\n",
    "\n",
    "import gc\n",
    "import warnings\n",
    "from sklearn.model_selection import TimeSeriesSplit\n",
    "from sklearn.base import BaseEstimator, RegressorMixin, clone"
   ]
  },
  {
   "cell_type": "code",
   "execution_count": 36,
   "metadata": {},
   "outputs": [],
   "source": [
    "train_df = pd.read_csv('train_final.csv')\n",
    "test_df = pd.read_csv('test_final.csv')"
   ]
  },
  {
   "cell_type": "code",
   "execution_count": 37,
   "metadata": {},
   "outputs": [],
   "source": [
    "# The two column with null values do not have a high feature importance, so try dropping them\n",
    "\n",
    "col_to_drop = ['year_built', 'floor_count']\n",
    "\n",
    "train = train_df.drop(columns = col_to_drop)\n",
    "test = test_df.drop(columns = col_to_drop)"
   ]
  },
  {
   "cell_type": "markdown",
   "metadata": {},
   "source": [
    "**Per-meter models**\n",
    "\n",
    "Original code from Kaggle notebook: https://www.kaggle.com/purist1024/strategy-evaluation-what-helps-and-by-how-much by @purist1024\n",
    "\n",
    "The CatSplitRegressor wrapper class hides the process of splitting the training and validation data up by unique values of a specified column (i.e. \"meter\"), using a different sub-model for each value, and then re-integrating the resulting predictions."
   ]
  },
  {
   "cell_type": "code",
   "execution_count": 38,
   "metadata": {},
   "outputs": [],
   "source": [
    "class CatSplitRegressor(BaseEstimator, RegressorMixin):\n",
    "    def __init__(self, model, col):\n",
    "        self.model = model\n",
    "        self.col = col\n",
    "\n",
    "    def fit(self, X, y):\n",
    "        self.fitted = {}\n",
    "        importances = []\n",
    "        for val in X[self.col].unique():\n",
    "            X1 = X[X[self.col] == val].drop(columns=[self.col])\n",
    "            self.fitted[val] = clone(self.model).fit(X1, y.reindex_like(X1))\n",
    "            importances.append(self.fitted[val].feature_importances_)\n",
    "            del X1\n",
    "        fi = np.average(importances, axis=0)\n",
    "        col_index = list(X.columns).index(self.col)\n",
    "        self.feature_importances_ = [*fi[:col_index], 0, *fi[col_index:]]\n",
    "        return self\n",
    "\n",
    "    def predict(self, X):\n",
    "        result = np.zeros(len(X))\n",
    "        for val in X[self.col].unique():\n",
    "            ix = np.nonzero((X[self.col] == val).to_numpy())\n",
    "            predictions = self.fitted[val].predict(X.iloc[ix].drop(columns=[self.col]))\n",
    "            result[ix] = predictions\n",
    "        return result\n",
    "    \n",
    "    def get_score(self):\n",
    "        return self.model.best_score"
   ]
  },
  {
   "cell_type": "code",
   "execution_count": 39,
   "metadata": {},
   "outputs": [],
   "source": [
    "categorical_columns = [\"building_id\", \"site_id\", \"meter\", \"primary_use\", \"day\", \"month\", \"hour\",\"weekday\", \"is_holiday\", \"weekend\"]"
   ]
  },
  {
   "cell_type": "markdown",
   "metadata": {},
   "source": [
    "**LGBM category awarness**\n",
    "\n",
    "Original code from Kaggle notebook: https://www.kaggle.com/purist1024/strategy-evaluation-what-helps-and-by-how-much by @purist1024\n",
    "\n",
    "The LGBM uses some very effective strategies to produce better splits when it knows that a feature is categorical. Since we have a reasonable number of integer-valued features that are, in fact, unordered or cyclical categoricals, we benefit from explicitly declaring them to LGBM.\n",
    "\n",
    "Unfortunately, the scikit wrapper from LGBM doesn't handle these declarations gracefully, and prints a warning that we've overridden its default guesses. We include extra code here to silence those warnings."
   ]
  },
  {
   "cell_type": "code",
   "execution_count": 43,
   "metadata": {},
   "outputs": [],
   "source": [
    "class LGBMWrapper(BaseEstimator, RegressorMixin):\n",
    "    def __init__(self, categorical_feature=None, **params):\n",
    "        self.model = LGBMRegressor(**params)\n",
    "        self.categorical_feature = categorical_feature\n",
    "\n",
    "    def fit(self, X, y):\n",
    "        with warnings.catch_warnings():\n",
    "            cats = None if self.categorical_feature is None else list(\n",
    "                X.columns.intersection(self.categorical_feature))\n",
    "            warnings.filterwarnings(\"ignore\",\n",
    "                                    \"categorical_feature in Dataset is overridden\".lower())\n",
    "            self.model.fit(X, y, **({} if cats is None else {\"categorical_feature\": cats}))\n",
    "            self.feature_importances_ = self.model.feature_importances_\n",
    "            return self\n",
    "\n",
    "    def predict(self, X):\n",
    "        return self.model.predict(X)\n",
    "\n",
    "    def get_params(self, deep=True):\n",
    "        return {**self.model.get_params(deep), \"categorical_feature\": self.categorical_feature}\n",
    "\n",
    "    def set_params(self, **params):\n",
    "        ctf = params.pop(\"categorical_feature\", None)\n",
    "        if ctf is not None: self.categorical_feature = ctf\n",
    "        self.model.set_params(params)"
   ]
  },
  {
   "cell_type": "code",
   "execution_count": 41,
   "metadata": {},
   "outputs": [
    {
     "data": {
      "text/plain": [
       "280"
      ]
     },
     "execution_count": 41,
     "metadata": {},
     "output_type": "execute_result"
    }
   ],
   "source": [
    "target = np.log1p(train[\"meter_reading\"])\n",
    "features = train.drop('meter_reading', axis = 1)\n",
    "del train\n",
    "gc.collect()"
   ]
  },
  {
   "cell_type": "code",
   "execution_count": 44,
   "metadata": {},
   "outputs": [
    {
     "name": "stdout",
     "output_type": "stream",
     "text": [
      "defaultdict(<class 'collections.OrderedDict'>, {})\n",
      "[51676   585   418 11594  9500 29236 17778  3956 16470  1612 11616  4451\n",
      "  1693 22825  6605  9062     0  3063     0]\n",
      "None\n",
      "defaultdict(<class 'collections.OrderedDict'>, {})\n",
      "[26919    54    80 12845  9967 16202 17155  7831 20197  3317 26361 11948\n",
      "  5204 19429 16441 14393     0  2150     0]\n",
      "None\n",
      "defaultdict(<class 'collections.OrderedDict'>, {})\n",
      "[47031   709   179 16444 10825 23214 21166  8879 23977  2881 22751 10238\n",
      "  3731 21555 13236 13296     0  3161     0]\n",
      "None\n",
      "defaultdict(<class 'collections.OrderedDict'>, {})\n",
      "[31973   312   289 13637  9298 16408 18407  9283 19854  3861 21653 11706\n",
      "  5239 19544 14689 14906     0  2270     0]\n",
      "None\n"
     ]
    },
    {
     "data": {
      "text/plain": [
       "CatSplitRegressor(col='meter',\n",
       "                  model=LGBMWrapper(boosting_type='gbdt',\n",
       "                                    categorical_feature=['building_id',\n",
       "                                                         'site_id', 'meter',\n",
       "                                                         'primary_use', 'day',\n",
       "                                                         'month', 'hour',\n",
       "                                                         'weekday',\n",
       "                                                         'is_holiday',\n",
       "                                                         'weekend'],\n",
       "                                    class_weight=None, colsample_bytree=1.0,\n",
       "                                    importance_type='split', learning_rate=0.06,\n",
       "                                    max_depth=12, min_child_samples=20,\n",
       "                                    min_child_weight=5.54,\n",
       "                                    min_split_gain=0.0875, n_estimators=100,\n",
       "                                    n_jobs=-1, num_leaves=2936, objective=None,\n",
       "                                    random_state=0, reg_alpha=3.9,\n",
       "                                    reg_lambda=2.3, silent=True, subsample=1.0,\n",
       "                                    subsample_for_bin=200000,\n",
       "                                    subsample_freq=0))"
      ]
     },
     "execution_count": 44,
     "metadata": {},
     "output_type": "execute_result"
    }
   ],
   "source": [
    "model = CatSplitRegressor(\n",
    "    LGBMWrapper(random_state=0, n_jobs=-1, \n",
    "                reg_alpha=3.9, \n",
    "                reg_lambda=2.3, \n",
    "                learning_rate = 0.06, \n",
    "                max_depth = 12, \n",
    "                min_child_weight =5.54,\n",
    "                min_split_gain=0.0875,\n",
    "                num_leaves=2936,\n",
    "                categorical_feature=categorical_columns), \"meter\")\n",
    "\n",
    "model.fit(features, target)"
   ]
  },
  {
   "cell_type": "code",
   "execution_count": 45,
   "metadata": {},
   "outputs": [
    {
     "data": {
      "text/html": [
       "<div>\n",
       "<style scoped>\n",
       "    .dataframe tbody tr th:only-of-type {\n",
       "        vertical-align: middle;\n",
       "    }\n",
       "\n",
       "    .dataframe tbody tr th {\n",
       "        vertical-align: top;\n",
       "    }\n",
       "\n",
       "    .dataframe thead th {\n",
       "        text-align: right;\n",
       "    }\n",
       "</style>\n",
       "<table border=\"1\" class=\"dataframe\">\n",
       "  <thead>\n",
       "    <tr style=\"text-align: right;\">\n",
       "      <th></th>\n",
       "      <th>row_id</th>\n",
       "      <th>building_id</th>\n",
       "      <th>meter</th>\n",
       "      <th>site_id</th>\n",
       "      <th>primary_use</th>\n",
       "      <th>square_feet</th>\n",
       "      <th>day</th>\n",
       "      <th>month</th>\n",
       "      <th>air_temperature</th>\n",
       "      <th>cloud_coverage</th>\n",
       "      <th>...</th>\n",
       "      <th>precip_depth_1_hr</th>\n",
       "      <th>sea_level_pressure</th>\n",
       "      <th>wind_direction</th>\n",
       "      <th>wind_speed</th>\n",
       "      <th>hour</th>\n",
       "      <th>relative_humidity</th>\n",
       "      <th>feels_like</th>\n",
       "      <th>weekday</th>\n",
       "      <th>weekend</th>\n",
       "      <th>is_holiday</th>\n",
       "    </tr>\n",
       "  </thead>\n",
       "  <tbody>\n",
       "    <tr>\n",
       "      <th>0</th>\n",
       "      <td>0</td>\n",
       "      <td>0</td>\n",
       "      <td>0</td>\n",
       "      <td>0</td>\n",
       "      <td>0</td>\n",
       "      <td>8.913685</td>\n",
       "      <td>6</td>\n",
       "      <td>1</td>\n",
       "      <td>17.8</td>\n",
       "      <td>4.0</td>\n",
       "      <td>...</td>\n",
       "      <td>0.4233</td>\n",
       "      <td>1021.5</td>\n",
       "      <td>100.0</td>\n",
       "      <td>3.6</td>\n",
       "      <td>0</td>\n",
       "      <td>67.5</td>\n",
       "      <td>12.26</td>\n",
       "      <td>6</td>\n",
       "      <td>1</td>\n",
       "      <td>0</td>\n",
       "    </tr>\n",
       "    <tr>\n",
       "      <th>1</th>\n",
       "      <td>1</td>\n",
       "      <td>1</td>\n",
       "      <td>0</td>\n",
       "      <td>0</td>\n",
       "      <td>0</td>\n",
       "      <td>7.908755</td>\n",
       "      <td>6</td>\n",
       "      <td>1</td>\n",
       "      <td>17.8</td>\n",
       "      <td>4.0</td>\n",
       "      <td>...</td>\n",
       "      <td>0.4233</td>\n",
       "      <td>1021.5</td>\n",
       "      <td>100.0</td>\n",
       "      <td>3.6</td>\n",
       "      <td>0</td>\n",
       "      <td>67.5</td>\n",
       "      <td>12.26</td>\n",
       "      <td>6</td>\n",
       "      <td>1</td>\n",
       "      <td>0</td>\n",
       "    </tr>\n",
       "    <tr>\n",
       "      <th>2</th>\n",
       "      <td>2</td>\n",
       "      <td>2</td>\n",
       "      <td>0</td>\n",
       "      <td>0</td>\n",
       "      <td>0</td>\n",
       "      <td>8.589886</td>\n",
       "      <td>6</td>\n",
       "      <td>1</td>\n",
       "      <td>17.8</td>\n",
       "      <td>4.0</td>\n",
       "      <td>...</td>\n",
       "      <td>0.4233</td>\n",
       "      <td>1021.5</td>\n",
       "      <td>100.0</td>\n",
       "      <td>3.6</td>\n",
       "      <td>0</td>\n",
       "      <td>67.5</td>\n",
       "      <td>12.26</td>\n",
       "      <td>6</td>\n",
       "      <td>1</td>\n",
       "      <td>0</td>\n",
       "    </tr>\n",
       "    <tr>\n",
       "      <th>3</th>\n",
       "      <td>3</td>\n",
       "      <td>3</td>\n",
       "      <td>0</td>\n",
       "      <td>0</td>\n",
       "      <td>0</td>\n",
       "      <td>10.072639</td>\n",
       "      <td>6</td>\n",
       "      <td>1</td>\n",
       "      <td>17.8</td>\n",
       "      <td>4.0</td>\n",
       "      <td>...</td>\n",
       "      <td>0.4233</td>\n",
       "      <td>1021.5</td>\n",
       "      <td>100.0</td>\n",
       "      <td>3.6</td>\n",
       "      <td>0</td>\n",
       "      <td>67.5</td>\n",
       "      <td>12.26</td>\n",
       "      <td>6</td>\n",
       "      <td>1</td>\n",
       "      <td>0</td>\n",
       "    </tr>\n",
       "    <tr>\n",
       "      <th>4</th>\n",
       "      <td>4</td>\n",
       "      <td>4</td>\n",
       "      <td>0</td>\n",
       "      <td>0</td>\n",
       "      <td>0</td>\n",
       "      <td>11.666573</td>\n",
       "      <td>6</td>\n",
       "      <td>1</td>\n",
       "      <td>17.8</td>\n",
       "      <td>4.0</td>\n",
       "      <td>...</td>\n",
       "      <td>0.4233</td>\n",
       "      <td>1021.5</td>\n",
       "      <td>100.0</td>\n",
       "      <td>3.6</td>\n",
       "      <td>0</td>\n",
       "      <td>67.5</td>\n",
       "      <td>12.26</td>\n",
       "      <td>6</td>\n",
       "      <td>1</td>\n",
       "      <td>0</td>\n",
       "    </tr>\n",
       "  </tbody>\n",
       "</table>\n",
       "<p>5 rows × 21 columns</p>\n",
       "</div>"
      ],
      "text/plain": [
       "   row_id  building_id  meter  site_id  primary_use  square_feet  day  month  \\\n",
       "0       0            0      0        0            0     8.913685    6      1   \n",
       "1       1            1      0        0            0     7.908755    6      1   \n",
       "2       2            2      0        0            0     8.589886    6      1   \n",
       "3       3            3      0        0            0    10.072639    6      1   \n",
       "4       4            4      0        0            0    11.666573    6      1   \n",
       "\n",
       "   air_temperature  cloud_coverage  ...  precip_depth_1_hr  \\\n",
       "0             17.8             4.0  ...             0.4233   \n",
       "1             17.8             4.0  ...             0.4233   \n",
       "2             17.8             4.0  ...             0.4233   \n",
       "3             17.8             4.0  ...             0.4233   \n",
       "4             17.8             4.0  ...             0.4233   \n",
       "\n",
       "   sea_level_pressure  wind_direction  wind_speed  hour  relative_humidity  \\\n",
       "0              1021.5           100.0         3.6     0               67.5   \n",
       "1              1021.5           100.0         3.6     0               67.5   \n",
       "2              1021.5           100.0         3.6     0               67.5   \n",
       "3              1021.5           100.0         3.6     0               67.5   \n",
       "4              1021.5           100.0         3.6     0               67.5   \n",
       "\n",
       "   feels_like  weekday  weekend  is_holiday  \n",
       "0       12.26        6        1           0  \n",
       "1       12.26        6        1           0  \n",
       "2       12.26        6        1           0  \n",
       "3       12.26        6        1           0  \n",
       "4       12.26        6        1           0  \n",
       "\n",
       "[5 rows x 21 columns]"
      ]
     },
     "execution_count": 45,
     "metadata": {},
     "output_type": "execute_result"
    }
   ],
   "source": [
    "test.head()"
   ]
  },
  {
   "cell_type": "code",
   "execution_count": 21,
   "metadata": {},
   "outputs": [],
   "source": [
    "test.drop(columns=['row_id'], inplace=True)"
   ]
  },
  {
   "cell_type": "code",
   "execution_count": 22,
   "metadata": {},
   "outputs": [],
   "source": [
    "predictions = pd.DataFrame({\n",
    "    \"row_id\": test.index,\n",
    "    \"meter_reading\": np.clip(np.expm1(model.predict(test)), 0, None)\n",
    "})"
   ]
  },
  {
   "cell_type": "code",
   "execution_count": 24,
   "metadata": {},
   "outputs": [
    {
     "data": {
      "text/plain": [
       "(41697600, 2)"
      ]
     },
     "execution_count": 24,
     "metadata": {},
     "output_type": "execute_result"
    }
   ],
   "source": [
    "predictions.shape"
   ]
  },
  {
   "cell_type": "code",
   "execution_count": 23,
   "metadata": {},
   "outputs": [],
   "source": [
    "predictions.to_csv(\"submission6.csv\", index=False, float_format=\"%.4f\")"
   ]
  },
  {
   "cell_type": "markdown",
   "metadata": {},
   "source": [
    "**Score: 1.09**"
   ]
  },
  {
   "cell_type": "code",
   "execution_count": 46,
   "metadata": {},
   "outputs": [
    {
     "name": "stdout",
     "output_type": "stream",
     "text": [
      "defaultdict(<class 'collections.OrderedDict'>, {})\n",
      "[52223   559   390 11452  9227 29548 15749  3474 14338  1125  9434  3744\n",
      "  1342 22940  5348  7217     0  2242     0]\n",
      "None\n",
      "defaultdict(<class 'collections.OrderedDict'>, {})\n",
      "[26759    54    98 11030 10102 16116 14288  6419 16529  2462 21002  9406\n",
      "  3948 19995 12574 11518     0  1466     0]\n",
      "None\n",
      "defaultdict(<class 'collections.OrderedDict'>, {})\n",
      "[46232   745   158 13289 10720 22814 17380  6756 18378  1883 16265  7316\n",
      "  2538 21093  9272  9603     0  2010     0]\n",
      "None\n",
      "defaultdict(<class 'collections.OrderedDict'>, {})\n",
      "[31860   334   277 11421  9395 16723 14908  7446 16206  2630 16242  8730\n",
      "  3674 19453 10726 11417     0  1515     0]\n",
      "None\n"
     ]
    },
    {
     "data": {
      "text/plain": [
       "CatSplitRegressor(col='meter',\n",
       "                  model=LGBMWrapper(boosting_type='gbdt',\n",
       "                                    categorical_feature=['building_id',\n",
       "                                                         'site_id', 'meter',\n",
       "                                                         'primary_use', 'day',\n",
       "                                                         'month', 'hour',\n",
       "                                                         'weekday',\n",
       "                                                         'is_holiday',\n",
       "                                                         'weekend'],\n",
       "                                    class_weight=None, colsample_bytree=1.0,\n",
       "                                    importance_type='split', learning_rate=0.06,\n",
       "                                    max_depth=12, min_child_samples=20,\n",
       "                                    min_child_weight=48, min_split_gain=0.0578,\n",
       "                                    n_estimators=100, n_jobs=-1,\n",
       "                                    num_leaves=2150, objective=None,\n",
       "                                    random_state=0, reg_alpha=3.85,\n",
       "                                    reg_lambda=2.26, silent=True, subsample=1.0,\n",
       "                                    subsample_for_bin=200000,\n",
       "                                    subsample_freq=0))"
      ]
     },
     "execution_count": 46,
     "metadata": {},
     "output_type": "execute_result"
    }
   ],
   "source": [
    "model_2 = CatSplitRegressor(\n",
    "    LGBMWrapper(random_state=0, n_jobs=-1, \n",
    "                reg_alpha=3.85, \n",
    "                reg_lambda=2.26, \n",
    "                learning_rate = 0.06, \n",
    "                max_depth = 12, \n",
    "                min_child_weight =48,\n",
    "                min_split_gain=0.0578,\n",
    "                num_leaves=2150,\n",
    "                categorical_feature=categorical_columns), \"meter\")\n",
    "\n",
    "model_2.fit(features, target)"
   ]
  },
  {
   "cell_type": "code",
   "execution_count": 48,
   "metadata": {},
   "outputs": [],
   "source": [
    "test.drop(columns=['row_id'], inplace=True)"
   ]
  },
  {
   "cell_type": "code",
   "execution_count": 49,
   "metadata": {},
   "outputs": [],
   "source": [
    "predictions_2 = pd.DataFrame({\n",
    "    \"row_id\": test.index,\n",
    "    \"meter_reading\": np.clip(np.expm1(model_2.predict(test)), 0, None)\n",
    "})"
   ]
  },
  {
   "cell_type": "code",
   "execution_count": 50,
   "metadata": {},
   "outputs": [
    {
     "data": {
      "text/plain": [
       "(41697600, 2)"
      ]
     },
     "execution_count": 50,
     "metadata": {},
     "output_type": "execute_result"
    }
   ],
   "source": [
    "predictions_2.shape"
   ]
  },
  {
   "cell_type": "code",
   "execution_count": 51,
   "metadata": {},
   "outputs": [],
   "source": [
    "predictions_2.to_csv(\"submission7.csv\", index=False, float_format=\"%.4f\")"
   ]
  },
  {
   "cell_type": "markdown",
   "metadata": {},
   "source": [
    "**Score: 1.09**"
   ]
  },
  {
   "cell_type": "code",
   "execution_count": null,
   "metadata": {},
   "outputs": [],
   "source": []
  }
 ],
 "metadata": {
  "kernelspec": {
   "display_name": "Python 3",
   "language": "python",
   "name": "python3"
  },
  "language_info": {
   "codemirror_mode": {
    "name": "ipython",
    "version": 3
   },
   "file_extension": ".py",
   "mimetype": "text/x-python",
   "name": "python",
   "nbconvert_exporter": "python",
   "pygments_lexer": "ipython3",
   "version": "3.7.3"
  }
 },
 "nbformat": 4,
 "nbformat_minor": 2
}
