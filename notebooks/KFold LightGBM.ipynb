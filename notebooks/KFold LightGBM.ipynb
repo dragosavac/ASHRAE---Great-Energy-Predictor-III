{
 "cells": [
  {
   "cell_type": "code",
   "execution_count": 21,
   "metadata": {},
   "outputs": [],
   "source": [
    "import csv\n",
    "import gc\n",
    "\n",
    "import numpy as np\n",
    "import pandas as pd\n",
    "\n",
    "import matplotlib.pyplot as plt\n",
    "from sklearn.preprocessing import LabelEncoder\n",
    "from sklearn.metrics import mean_squared_error\n",
    "\n",
    "from sklearn.model_selection import TimeSeriesSplit\n",
    "\n",
    "import lightgbm as lgb\n",
    "\n",
    "import seaborn as sns"
   ]
  },
  {
   "cell_type": "code",
   "execution_count": 25,
   "metadata": {},
   "outputs": [],
   "source": [
    "building_metadata = pd.read_csv(\"data/building_metadata.csv\")\n",
    "test = pd.read_csv(\"data/test.csv\")\n",
    "train = pd.read_csv(\"data/train.csv\")\n",
    "weather_test = pd.read_csv(\"data/weather_test.csv\")\n",
    "weather_train = pd.read_csv(\"data/weather_train.csv\")"
   ]
  },
  {
   "cell_type": "code",
   "execution_count": 26,
   "metadata": {},
   "outputs": [],
   "source": [
    "def reduce_mem_usage(df, verbose=True):\n",
    "    numerics = ['int16', 'int32', 'int64', 'float16', 'float32', 'float64']\n",
    "    start_mem = df.memory_usage().sum() / 1024**2\n",
    "    for col in df.columns:\n",
    "        col_type = df[col].dtypes\n",
    "        if col_type in numerics:\n",
    "            c_min = df[col].min()\n",
    "            c_max = df[col].max()\n",
    "            if str(col_type)[:3] == 'int':\n",
    "                if c_min > np.iinfo(np.int8).min and c_max < np.iinfo(np.int8).max:\n",
    "                    df[col] = df[col].astype(np.int8)\n",
    "                elif c_min > np.iinfo(np.int16).min and c_max < np.iinfo(np.int16).max:\n",
    "                    df[col] = df[col].astype(np.int16)\n",
    "                elif c_min > np.iinfo(np.int32).min and c_max < np.iinfo(np.int32).max:\n",
    "                    df[col] = df[col].astype(np.int32)\n",
    "                elif c_min > np.iinfo(np.int64).min and c_max < np.iinfo(np.int64).max:\n",
    "                    df[col] = df[col].astype(np.int64)\n",
    "            else:\n",
    "                if c_min > np.finfo(np.float16).min and c_max < np.finfo(np.float16).max:\n",
    "                    df[col] = df[col].astype(np.float16)\n",
    "                elif c_min > np.finfo(np.float32).min and c_max < np.finfo(np.float32).max:\n",
    "                    df[col] = df[col].astype(np.float32)\n",
    "                else:\n",
    "                    df[col] = df[col].astype(np.float64)\n",
    "    end_mem = df.memory_usage().sum() / 1024**2\n",
    "    if verbose: print('Mem. usage decreased to {:5.2f} Mb ({:.1f}% reduction)'.format(end_mem, 100 * (start_mem - end_mem) / start_mem))\n",
    "    return df"
   ]
  },
  {
   "cell_type": "code",
   "execution_count": 27,
   "metadata": {},
   "outputs": [
    {
     "name": "stdout",
     "output_type": "stream",
     "text": [
      "Mem. usage decreased to 289.19 Mb (53.1% reduction)\n",
      "Mem. usage decreased to 596.49 Mb (53.1% reduction)\n",
      "Mem. usage decreased to  3.07 Mb (68.1% reduction)\n",
      "Mem. usage decreased to  6.08 Mb (68.1% reduction)\n",
      "Mem. usage decreased to  0.03 Mb (60.3% reduction)\n"
     ]
    }
   ],
   "source": [
    "train = reduce_mem_usage(train)\n",
    "test = reduce_mem_usage(test)\n",
    "weather_train = reduce_mem_usage(weather_train)\n",
    "weather_test = reduce_mem_usage(weather_test)\n",
    "building = reduce_mem_usage(building_metadata)"
   ]
  },
  {
   "cell_type": "code",
   "execution_count": 28,
   "metadata": {},
   "outputs": [],
   "source": [
    "le = LabelEncoder()\n",
    "building.primary_use = le.fit_transform(building.primary_use)"
   ]
  },
  {
   "cell_type": "code",
   "execution_count": 40,
   "metadata": {},
   "outputs": [],
   "source": [
    "def prepare_data(X, building, weather, test = False):\n",
    "    \"\"\"\n",
    "    Data cleaning and feature engineering\n",
    "    \"\"\"\n",
    "    \n",
    "    X = X.merge(building, on=\"building_id\", how=\"left\")\n",
    "    X = X.merge(weather, on=[\"site_id\", \"timestamp\"], how=\"left\")\n",
    "    \n",
    "    X.timestamp = pd.to_datetime(X.timestamp, format=\"%Y-%m-%d %H:%M:%S\")\n",
    "    X.square_feet = np.log1p(X.square_feet)\n",
    "    \n",
    "    if not test:\n",
    "        X.sort_values(\"timestamp\", inplace=True)\n",
    "        X.reset_index(drop=True, inplace=True)\n",
    "        \n",
    "    holidays = [\"2016-01-01\", \"2016-01-18\", \"2016-02-15\", \"2016-05-30\", \"2016-07-04\",\n",
    "                \"2016-09-05\", \"2016-10-10\", \"2016-11-11\", \"2016-11-24\", \"2016-12-26\",\n",
    "                \"2017-01-01\", \"2017-01-16\", \"2017-02-20\", \"2017-05-29\", \"2017-07-04\",\n",
    "                \"2017-09-04\", \"2017-10-09\", \"2017-11-10\", \"2017-11-23\", \"2017-12-25\",\n",
    "                \"2018-01-01\", \"2018-01-15\", \"2018-02-19\", \"2018-05-28\", \"2018-07-04\",\n",
    "                \"2018-09-03\", \"2018-10-08\", \"2018-11-12\", \"2018-11-22\", \"2018-12-25\",\n",
    "                \"2019-01-01\"]\n",
    "    \n",
    "    X[\"hour\"] = X.timestamp.dt.hour\n",
    "    X[\"weekday\"] = X.timestamp.dt.weekday\n",
    "    X[\"month\"] = X.timestamp.dt.month\n",
    "    X[\"is_holiday\"] = (X.timestamp.dt.date.astype(\"str\").isin(holidays)).astype(int)\n",
    "    X[\"building_age\"] = X.timestamp.dt.year - X.year_built\n",
    "    \n",
    "    if test:\n",
    "        row_ids = X.row_id\n",
    "        X.drop(\"row_id\", axis=1, inplace=True)\n",
    "        return X, row_ids\n",
    "    else:\n",
    "        y = np.log1p(X.meter_reading)\n",
    "        X.drop(\"meter_reading\", axis=1, inplace=True)\n",
    "        return X, y"
   ]
  },
  {
   "cell_type": "code",
   "execution_count": 41,
   "metadata": {},
   "outputs": [],
   "source": [
    "X_train, y_train = prepare_data(train, building, weather_train)"
   ]
  },
  {
   "cell_type": "code",
   "execution_count": 42,
   "metadata": {},
   "outputs": [
    {
     "data": {
      "text/html": [
       "<div>\n",
       "<style scoped>\n",
       "    .dataframe tbody tr th:only-of-type {\n",
       "        vertical-align: middle;\n",
       "    }\n",
       "\n",
       "    .dataframe tbody tr th {\n",
       "        vertical-align: top;\n",
       "    }\n",
       "\n",
       "    .dataframe thead th {\n",
       "        text-align: right;\n",
       "    }\n",
       "</style>\n",
       "<table border=\"1\" class=\"dataframe\">\n",
       "  <thead>\n",
       "    <tr style=\"text-align: right;\">\n",
       "      <th></th>\n",
       "      <th>building_id</th>\n",
       "      <th>meter</th>\n",
       "      <th>timestamp</th>\n",
       "      <th>site_id</th>\n",
       "      <th>primary_use</th>\n",
       "      <th>square_feet</th>\n",
       "      <th>year_built</th>\n",
       "      <th>floor_count</th>\n",
       "      <th>air_temperature</th>\n",
       "      <th>cloud_coverage</th>\n",
       "      <th>dew_temperature</th>\n",
       "      <th>precip_depth_1_hr</th>\n",
       "      <th>sea_level_pressure</th>\n",
       "      <th>wind_direction</th>\n",
       "      <th>wind_speed</th>\n",
       "      <th>hour</th>\n",
       "      <th>weekday</th>\n",
       "      <th>month</th>\n",
       "      <th>is_holiday</th>\n",
       "      <th>building_age</th>\n",
       "    </tr>\n",
       "  </thead>\n",
       "  <tbody>\n",
       "    <tr>\n",
       "      <th>0</th>\n",
       "      <td>0</td>\n",
       "      <td>0</td>\n",
       "      <td>2016-01-01</td>\n",
       "      <td>0</td>\n",
       "      <td>0</td>\n",
       "      <td>8.913685</td>\n",
       "      <td>2008.0</td>\n",
       "      <td>NaN</td>\n",
       "      <td>25.000000</td>\n",
       "      <td>6.0</td>\n",
       "      <td>20.000000</td>\n",
       "      <td>NaN</td>\n",
       "      <td>1019.5</td>\n",
       "      <td>0.0</td>\n",
       "      <td>0.000000</td>\n",
       "      <td>0</td>\n",
       "      <td>4</td>\n",
       "      <td>1</td>\n",
       "      <td>1</td>\n",
       "      <td>8.0</td>\n",
       "    </tr>\n",
       "    <tr>\n",
       "      <th>1</th>\n",
       "      <td>1104</td>\n",
       "      <td>1</td>\n",
       "      <td>2016-01-01</td>\n",
       "      <td>13</td>\n",
       "      <td>9</td>\n",
       "      <td>12.204687</td>\n",
       "      <td>NaN</td>\n",
       "      <td>NaN</td>\n",
       "      <td>-8.296875</td>\n",
       "      <td>8.0</td>\n",
       "      <td>-12.203125</td>\n",
       "      <td>NaN</td>\n",
       "      <td>1023.5</td>\n",
       "      <td>250.0</td>\n",
       "      <td>4.101562</td>\n",
       "      <td>0</td>\n",
       "      <td>4</td>\n",
       "      <td>1</td>\n",
       "      <td>1</td>\n",
       "      <td>NaN</td>\n",
       "    </tr>\n",
       "    <tr>\n",
       "      <th>2</th>\n",
       "      <td>1104</td>\n",
       "      <td>0</td>\n",
       "      <td>2016-01-01</td>\n",
       "      <td>13</td>\n",
       "      <td>9</td>\n",
       "      <td>12.204687</td>\n",
       "      <td>NaN</td>\n",
       "      <td>NaN</td>\n",
       "      <td>-8.296875</td>\n",
       "      <td>8.0</td>\n",
       "      <td>-12.203125</td>\n",
       "      <td>NaN</td>\n",
       "      <td>1023.5</td>\n",
       "      <td>250.0</td>\n",
       "      <td>4.101562</td>\n",
       "      <td>0</td>\n",
       "      <td>4</td>\n",
       "      <td>1</td>\n",
       "      <td>1</td>\n",
       "      <td>NaN</td>\n",
       "    </tr>\n",
       "    <tr>\n",
       "      <th>3</th>\n",
       "      <td>1103</td>\n",
       "      <td>0</td>\n",
       "      <td>2016-01-01</td>\n",
       "      <td>13</td>\n",
       "      <td>7</td>\n",
       "      <td>10.081801</td>\n",
       "      <td>NaN</td>\n",
       "      <td>NaN</td>\n",
       "      <td>-8.296875</td>\n",
       "      <td>8.0</td>\n",
       "      <td>-12.203125</td>\n",
       "      <td>NaN</td>\n",
       "      <td>1023.5</td>\n",
       "      <td>250.0</td>\n",
       "      <td>4.101562</td>\n",
       "      <td>0</td>\n",
       "      <td>4</td>\n",
       "      <td>1</td>\n",
       "      <td>1</td>\n",
       "      <td>NaN</td>\n",
       "    </tr>\n",
       "    <tr>\n",
       "      <th>4</th>\n",
       "      <td>1102</td>\n",
       "      <td>2</td>\n",
       "      <td>2016-01-01</td>\n",
       "      <td>13</td>\n",
       "      <td>6</td>\n",
       "      <td>11.375822</td>\n",
       "      <td>NaN</td>\n",
       "      <td>NaN</td>\n",
       "      <td>-8.296875</td>\n",
       "      <td>8.0</td>\n",
       "      <td>-12.203125</td>\n",
       "      <td>NaN</td>\n",
       "      <td>1023.5</td>\n",
       "      <td>250.0</td>\n",
       "      <td>4.101562</td>\n",
       "      <td>0</td>\n",
       "      <td>4</td>\n",
       "      <td>1</td>\n",
       "      <td>1</td>\n",
       "      <td>NaN</td>\n",
       "    </tr>\n",
       "  </tbody>\n",
       "</table>\n",
       "</div>"
      ],
      "text/plain": [
       "   building_id  meter  timestamp  site_id  primary_use  square_feet  \\\n",
       "0            0      0 2016-01-01        0            0     8.913685   \n",
       "1         1104      1 2016-01-01       13            9    12.204687   \n",
       "2         1104      0 2016-01-01       13            9    12.204687   \n",
       "3         1103      0 2016-01-01       13            7    10.081801   \n",
       "4         1102      2 2016-01-01       13            6    11.375822   \n",
       "\n",
       "   year_built  floor_count  air_temperature  cloud_coverage  dew_temperature  \\\n",
       "0      2008.0          NaN        25.000000             6.0        20.000000   \n",
       "1         NaN          NaN        -8.296875             8.0       -12.203125   \n",
       "2         NaN          NaN        -8.296875             8.0       -12.203125   \n",
       "3         NaN          NaN        -8.296875             8.0       -12.203125   \n",
       "4         NaN          NaN        -8.296875             8.0       -12.203125   \n",
       "\n",
       "   precip_depth_1_hr  sea_level_pressure  wind_direction  wind_speed  hour  \\\n",
       "0                NaN              1019.5             0.0    0.000000     0   \n",
       "1                NaN              1023.5           250.0    4.101562     0   \n",
       "2                NaN              1023.5           250.0    4.101562     0   \n",
       "3                NaN              1023.5           250.0    4.101562     0   \n",
       "4                NaN              1023.5           250.0    4.101562     0   \n",
       "\n",
       "   weekday  month  is_holiday  building_age  \n",
       "0        4      1           1           8.0  \n",
       "1        4      1           1           NaN  \n",
       "2        4      1           1           NaN  \n",
       "3        4      1           1           NaN  \n",
       "4        4      1           1           NaN  "
      ]
     },
     "execution_count": 42,
     "metadata": {},
     "output_type": "execute_result"
    }
   ],
   "source": [
    "X_train.head()"
   ]
  },
  {
   "cell_type": "code",
   "execution_count": 43,
   "metadata": {},
   "outputs": [],
   "source": [
    "X_test, row_ids = prepare_data(test, building, weather_test, test=True)"
   ]
  },
  {
   "cell_type": "code",
   "execution_count": 44,
   "metadata": {},
   "outputs": [
    {
     "data": {
      "text/plain": [
       "5926"
      ]
     },
     "execution_count": 44,
     "metadata": {},
     "output_type": "execute_result"
    }
   ],
   "source": [
    "gc.collect()"
   ]
  },
  {
   "cell_type": "code",
   "execution_count": 45,
   "metadata": {},
   "outputs": [],
   "source": [
    "del train, weather_train"
   ]
  },
  {
   "cell_type": "code",
   "execution_count": 46,
   "metadata": {},
   "outputs": [],
   "source": [
    "y_train = y_train[X_train.building_id != 1099]\n",
    "X_train = X_train[X_train.building_id != 1099]\n",
    "\n",
    "X_train.drop(\"timestamp\", axis=1, inplace=True)\n",
    "X_test.drop(\"timestamp\", axis=1, inplace=True)\n",
    "\n",
    "X_train.drop(\"precip_depth_1_hr\", axis=1, inplace=True)\n",
    "X_test.drop(\"precip_depth_1_hr\", axis=1, inplace=True)\n",
    "\n",
    "X_train.drop(\"floor_count\", axis=1, inplace=True)\n",
    "X_test.drop(\"floor_count\", axis=1, inplace=True)\n",
    "\n",
    "X_train.drop(\"cloud_coverage\", axis=1, inplace=True)\n",
    "X_test.drop(\"cloud_coverage\", axis=1, inplace=True)\n",
    "\n",
    "X_train.drop(\"primary_use\", axis=1, inplace=True)\n",
    "X_test.drop(\"primary_use\", axis=1, inplace=True)"
   ]
  },
  {
   "cell_type": "code",
   "execution_count": 47,
   "metadata": {},
   "outputs": [],
   "source": [
    "nsplits = 3\n",
    "folds = TimeSeriesSplit(nsplits)"
   ]
  },
  {
   "cell_type": "code",
   "execution_count": 48,
   "metadata": {},
   "outputs": [],
   "source": [
    "categorical_features = [\"building_id\",\"site_id\", \"meter\",  \"hour\",\"month\",\"weekday\"]\n",
    "\n",
    "params = {\n",
    "    \"objective\": \"regression\",\n",
    "    \"boosting\": \"gbdt\",\n",
    "    \"max_depth\": -1,\n",
    "    \"num_leaves\": 1000,\n",
    "    \"learning_rate\": 0.1,\n",
    "    \"feature_fraction\": 0.95,\n",
    "    \"reg_lambda\": 2,\n",
    "    \"max_bin\": 550,\n",
    "    \"metric\": \"rmse\"\n",
    "}\n",
    "\n",
    "pred = np.zeros(len(X_test))"
   ]
  },
  {
   "cell_type": "code",
   "execution_count": 49,
   "metadata": {},
   "outputs": [
    {
     "name": "stdout",
     "output_type": "stream",
     "text": [
      "Building model with first half and validating on second half:\n"
     ]
    },
    {
     "name": "stderr",
     "output_type": "stream",
     "text": [
      "/Users/jasminabajramovic/miniconda3/lib/python3.7/site-packages/lightgbm/basic.py:1243: UserWarning: Using categorical_feature in Dataset.\n",
      "  A numpy array with information from the Dataset.\n"
     ]
    },
    {
     "name": "stdout",
     "output_type": "stream",
     "text": [
      "Training until validation scores don't improve for 50 rounds\n",
      "Early stopping, best iteration is:\n",
      "[15]\ttraining's rmse: 0.818831\tvalid_1's rmse: 1.44394\n",
      "Building model with first half and validating on second half:\n",
      "Training until validation scores don't improve for 50 rounds\n",
      "Early stopping, best iteration is:\n",
      "[15]\ttraining's rmse: 0.94247\tvalid_1's rmse: 1.4431\n",
      "Building model with first half and validating on second half:\n",
      "Training until validation scores don't improve for 50 rounds\n",
      "[100]\ttraining's rmse: 0.605718\tvalid_1's rmse: 1.15905\n",
      "[200]\ttraining's rmse: 0.556289\tvalid_1's rmse: 1.15701\n",
      "Early stopping, best iteration is:\n",
      "[180]\ttraining's rmse: 0.562691\tvalid_1's rmse: 1.15529\n"
     ]
    }
   ],
   "source": [
    "df_fimp = pd.DataFrame()\n",
    "for tr_idx,va_idx in folds.split(X_train,y_train):\n",
    "    X_half_1 = X_train.iloc[tr_idx]\n",
    "    y_half_1 = y_train.iloc[tr_idx]\n",
    "    X_half_2 = X_train.iloc[va_idx]\n",
    "    y_half_2 = y_train.iloc[va_idx]\n",
    "\n",
    "    d_half_1 = lgb.Dataset(X_half_1, label=y_half_1, categorical_feature=categorical_features, free_raw_data=False)\n",
    "    d_half_2 = lgb.Dataset(X_half_2, label=y_half_2, categorical_feature=categorical_features, free_raw_data=False)\n",
    "\n",
    "    print(\"Building model with first half and validating on second half:\")\n",
    "    model_half = lgb.train(params, train_set=d_half_1, num_boost_round=300, valid_sets=[d_half_1,d_half_2], verbose_eval=100, early_stopping_rounds=50)\n",
    "    gc.collect()\n",
    "    pred += np.expm1(model_half.predict(X_test, num_iteration=model_half.best_iteration)) / nsplits\n",
    "    \n",
    "    df_fimp_1 = pd.DataFrame()\n",
    "    df_fimp_1[\"feature\"] = X_train.columns.values\n",
    "    df_fimp_1[\"importance\"] = model_half.feature_importance()\n",
    "    \n",
    "    df_fimp = pd.concat([df_fimp, df_fimp_1], axis=0)\n",
    "    del model_half\n",
    "    gc.collect()\n"
   ]
  },
  {
   "cell_type": "code",
   "execution_count": 50,
   "metadata": {},
   "outputs": [
    {
     "data": {
      "image/png": "[encoded data removed]",
      "text/plain": [
       "<Figure size 1008x504 with 1 Axes>"
      ]
     },
     "metadata": {
      "needs_background": "light"
     },
     "output_type": "display_data"
    }
   ],
   "source": [
    "plt.figure(figsize=(14, 7))\n",
    "sns.barplot(x=\"importance\", y=\"feature\", data=df_fimp.sort_values(by=\"importance\", ascending=False))\n",
    "plt.title(\"LightGBM Feature Importance\")\n",
    "plt.tight_layout()"
   ]
  },
  {
   "cell_type": "code",
   "execution_count": null,
   "metadata": {},
   "outputs": [],
   "source": []
  }
 ],
 "metadata": {
  "kernelspec": {
   "display_name": "Python 3",
   "language": "python",
   "name": "python3"
  },
  "language_info": {
   "codemirror_mode": {
    "name": "ipython",
    "version": 3
   },
   "file_extension": ".py",
   "mimetype": "text/x-python",
   "name": "python",
   "nbconvert_exporter": "python",
   "pygments_lexer": "ipython3",
   "version": "3.7.3"
  }
 },
 "nbformat": 4,
 "nbformat_minor": 2
}
